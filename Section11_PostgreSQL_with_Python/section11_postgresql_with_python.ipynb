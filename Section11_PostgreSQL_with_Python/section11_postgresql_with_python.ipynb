{
 "cells": [
  {
   "cell_type": "markdown",
   "metadata": {
    "toc": true
   },
   "source": [
    "<h1>Table of Contents<span class=\"tocSkip\"></span></h1>\n",
    "<div class=\"toc\"><ul class=\"toc-item\"><li><span><a href=\"#Using-psycopg2\" data-toc-modified-id=\"Using-psycopg2-1\"><span class=\"toc-item-num\">1&nbsp;&nbsp;</span>Using psycopg2</a></span></li></ul></div>"
   ]
  },
  {
   "cell_type": "code",
   "execution_count": 3,
   "metadata": {
    "ExecuteTime": {
     "end_time": "2019-09-15T04:25:04.086074Z",
     "start_time": "2019-09-15T04:25:04.070914Z"
    }
   },
   "outputs": [
    {
     "data": {
      "text/html": [
       "<div>\n",
       "<style scoped>\n",
       "    .dataframe tbody tr th:only-of-type {\n",
       "        vertical-align: middle;\n",
       "    }\n",
       "\n",
       "    .dataframe tbody tr th {\n",
       "        vertical-align: top;\n",
       "    }\n",
       "\n",
       "    .dataframe thead th {\n",
       "        text-align: right;\n",
       "    }\n",
       "</style>\n",
       "<table border=\"1\" class=\"dataframe\">\n",
       "  <thead>\n",
       "    <tr style=\"text-align: right;\">\n",
       "      <th></th>\n",
       "      <th>0</th>\n",
       "      <th>1</th>\n",
       "    </tr>\n",
       "  </thead>\n",
       "  <tbody>\n",
       "    <tr>\n",
       "      <th>0</th>\n",
       "      <td>execute_query</td>\n",
       "      <td>show_all_tables_primary_keys</td>\n",
       "    </tr>\n",
       "    <tr>\n",
       "      <th>1</th>\n",
       "      <td>get_all_tables_names_in_database</td>\n",
       "      <td>show_df_tables_first_value_and_dtype</td>\n",
       "    </tr>\n",
       "    <tr>\n",
       "      <th>2</th>\n",
       "      <td>get_conn</td>\n",
       "      <td>show_given_tables_info</td>\n",
       "    </tr>\n",
       "    <tr>\n",
       "      <th>3</th>\n",
       "      <td>get_dataframe_of_all_tables_and_all_columns</td>\n",
       "      <td>show_method_attributes</td>\n",
       "    </tr>\n",
       "    <tr>\n",
       "      <th>4</th>\n",
       "      <td>get_pandas_dataframe</td>\n",
       "      <td>show_pandas_dataframes_list</td>\n",
       "    </tr>\n",
       "    <tr>\n",
       "      <th>5</th>\n",
       "      <td>get_postgres_configs</td>\n",
       "      <td>show_tables_primary_keys</td>\n",
       "    </tr>\n",
       "  </tbody>\n",
       "</table>\n",
       "</div>"
      ],
      "text/plain": [
       "                                             0  \\\n",
       "0                                execute_query   \n",
       "1             get_all_tables_names_in_database   \n",
       "2                                     get_conn   \n",
       "3  get_dataframe_of_all_tables_and_all_columns   \n",
       "4                         get_pandas_dataframe   \n",
       "5                         get_postgres_configs   \n",
       "\n",
       "                                      1  \n",
       "0          show_all_tables_primary_keys  \n",
       "1  show_df_tables_first_value_and_dtype  \n",
       "2                show_given_tables_info  \n",
       "3                show_method_attributes  \n",
       "4           show_pandas_dataframes_list  \n",
       "5              show_tables_primary_keys  "
      ]
     },
     "metadata": {},
     "output_type": "display_data"
    }
   ],
   "source": [
    "import numpy as np\n",
    "import pandas as pd\n",
    "import sys\n",
    "sys.path.append('../utils')\n",
    "\n",
    "import psycopg2 as pg2\n",
    "import util_database\n",
    "from util_database import *\n",
    "\n",
    "display(show_method_attributes(util_database))\n",
    "\n",
    "dbname, dbuser, dbpass, dbport = get_postgres_configs('dvdrental')"
   ]
  },
  {
   "cell_type": "markdown",
   "metadata": {},
   "source": [
    "# Using psycopg2\n",
    "https://wiki.postgresql.org/wiki/Psycopg2_Tutorial"
   ]
  },
  {
   "cell_type": "code",
   "execution_count": 11,
   "metadata": {
    "ExecuteTime": {
     "end_time": "2019-09-15T04:30:49.304578Z",
     "start_time": "2019-09-15T04:30:49.295164Z"
    }
   },
   "outputs": [],
   "source": [
    "conn = pg2.connect(database=dbname, user=dbuser, password=dbpass)\n",
    "cur = conn.cursor()"
   ]
  },
  {
   "cell_type": "code",
   "execution_count": 12,
   "metadata": {
    "ExecuteTime": {
     "end_time": "2019-09-15T04:31:10.749393Z",
     "start_time": "2019-09-15T04:31:10.739676Z"
    }
   },
   "outputs": [
    {
     "data": {
      "text/plain": [
       "(524,\n",
       " 1,\n",
       " 'Jared',\n",
       " 'Ely',\n",
       " 'jared.ely@sakilacustomer.org',\n",
       " 530,\n",
       " True,\n",
       " datetime.date(2006, 2, 14),\n",
       " datetime.datetime(2013, 5, 26, 14, 49, 45, 738000),\n",
       " 1)"
      ]
     },
     "execution_count": 12,
     "metadata": {},
     "output_type": "execute_result"
    }
   ],
   "source": [
    "cur.execute('select * from customer limit 2;')\n",
    "#cur.fetchone() # first row of data\n",
    "\n",
    "data = cur.fetchmany(2)\n",
    "data[0]"
   ]
  },
  {
   "cell_type": "code",
   "execution_count": 13,
   "metadata": {
    "ExecuteTime": {
     "end_time": "2019-09-15T04:31:15.630879Z",
     "start_time": "2019-09-15T04:31:15.626030Z"
    }
   },
   "outputs": [],
   "source": [
    "conn.close()"
   ]
  },
  {
   "cell_type": "code",
   "execution_count": null,
   "metadata": {},
   "outputs": [],
   "source": []
  }
 ],
 "metadata": {
  "kernelspec": {
   "display_name": "Python (dataSc)",
   "language": "python",
   "name": "datasc"
  },
  "language_info": {
   "codemirror_mode": {
    "name": "ipython",
    "version": 3
   },
   "file_extension": ".py",
   "mimetype": "text/x-python",
   "name": "python",
   "nbconvert_exporter": "python",
   "pygments_lexer": "ipython3",
   "version": "3.7.3"
  },
  "toc": {
   "base_numbering": 1,
   "nav_menu": {},
   "number_sections": true,
   "sideBar": true,
   "skip_h1_title": false,
   "title_cell": "Table of Contents",
   "title_sidebar": "Contents",
   "toc_cell": true,
   "toc_position": {},
   "toc_section_display": true,
   "toc_window_display": true
  }
 },
 "nbformat": 4,
 "nbformat_minor": 2
}
