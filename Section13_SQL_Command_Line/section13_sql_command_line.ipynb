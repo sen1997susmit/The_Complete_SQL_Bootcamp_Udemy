{
 "cells": [
  {
   "cell_type": "markdown",
   "metadata": {
    "toc": true
   },
   "source": [
    "<h1>Table of Contents<span class=\"tocSkip\"></span></h1>\n",
    "<div class=\"toc\"><ul class=\"toc-item\"><li><span><a href=\"#Installing-postgresql-on-MacOS-Mojave\" data-toc-modified-id=\"Installing-postgresql-on-MacOS-Mojave-1\"><span class=\"toc-item-num\">1&nbsp;&nbsp;</span>Installing postgresql on MacOS Mojave</a></span></li></ul></div>"
   ]
  },
  {
   "cell_type": "markdown",
   "metadata": {},
   "source": [
    "\n",
    "# Installing postgresql on MacOS Mojave\n",
    "- First install pgadmin4 separately, copy the app to Applications.\n",
    "- Then, go to [postgresql download website](https://www.enterprisedb.com/downloads/postgres-postgresql-downloads)\n",
    "- Choose 11.5 for macOS which is the latest version.\n",
    "- Install the dmg file, UNCHECK pgadmin4, give password and other credentials. Save credentials at `~/.postgres_conf.yaml`.\n",
    "- I have example postgresql database called `dvdrental.tar` here in github, download it to `~/Datasets/SQL/dvdrental.tar`, do not untar it, just download it to `~/Datasets/SQL/dvdrental/dvdrental.tar`. I can double click and open the .dat files inside it in office computer Yosemite, but in my laptop Mojave double click can not open it, also tar -xvz does not work. Basically Mojave have no any method to uncompress that file that it to my knowledge.\n",
    "- Open the app pgAdmin, it will show the servers icon on left hand side.\n",
    "- For some reasons, pgadmin still shows postgres10, it is crossed by red cross sign, it is unused, just ignore it.\n",
    "  postgres11 is blue and shows its active and running good.\n",
    "- Servers > PostgreSQL11 > Databases > right click > Create database > give name dvdrental.\n",
    "- Servers > Databases > dvdrental > right click > restore > Go to file name and click ... button to go to Finder\n",
    "  and locate the file `dvdrental.tar`, it will be hidden, but change Format backupt to All files in right bottom corner\n",
    "  of window and dvdrental.tar is shown, select it.\n",
    "- This shows errors, ignore it.\n",
    "- Restart pgAdmin couple of times, it shows error, but if you see tables you are fine.\n",
    "- Go to dvdrental > Schemas > Tables > actor > Column to see the columns for the table `actor` of database `dvdrental`.\n",
    "- Right click dvdrental database > Query tool\n",
    "- Do some queries like `SELECT * FROM customer limit 5;`\n",
    "- Now go to your favorite conda env and install psycopg2 and setup sql magic in jupyter notebook.\n",
    "- WARNING: In this dvdrental file the table `staff` is corrupted, it runs fine in pgadmin but fails in jupyter notebook cell magic %%sql or line magic %sql, but again works fine \n",
    "  in psycopg2 and pd.read_sql command."
   ]
  },
  {
   "cell_type": "code",
   "execution_count": null,
   "metadata": {},
   "outputs": [],
   "source": []
  }
 ],
 "metadata": {
  "kernelspec": {
   "display_name": "Python (dataSc)",
   "language": "python",
   "name": "datasc"
  },
  "language_info": {
   "codemirror_mode": {
    "name": "ipython",
    "version": 3
   },
   "file_extension": ".py",
   "mimetype": "text/x-python",
   "name": "python",
   "nbconvert_exporter": "python",
   "pygments_lexer": "ipython3",
   "version": "3.7.3"
  },
  "toc": {
   "base_numbering": 1,
   "nav_menu": {},
   "number_sections": true,
   "sideBar": true,
   "skip_h1_title": false,
   "title_cell": "Table of Contents",
   "title_sidebar": "Contents",
   "toc_cell": true,
   "toc_position": {},
   "toc_section_display": true,
   "toc_window_display": true
  }
 },
 "nbformat": 4,
 "nbformat_minor": 2
}
